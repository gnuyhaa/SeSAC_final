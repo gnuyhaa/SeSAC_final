{
 "cells": [
  {
   "cell_type": "code",
   "execution_count": null,
   "id": "d34b21fd",
   "metadata": {},
   "outputs": [
    {
     "name": "stdout",
     "output_type": "stream",
     "text": [
      "[{'category': '성취감 키우는 도전형 공원', 'score': 0.954}, {'category': '에너지 충전에 좋은 활력 공원', 'score': 0.945}, {'category': '스트레스 풀기 좋은 야외운동', 'score': 0.894}]\n"
     ]
    }
   ],
   "source": [
    "# 마음 상태(점수)에 따른 녹지 유형 추천\n",
    "from typing import Dict, Any\n",
    "import math\n",
    "\n",
    "CATEGORY_PROFILES = {\n",
    "    \"명상에 좋은 조용한 공원\":   {\"자연성\":0.35,\"편의성\":0.20,\"안정성\":0.35,\"활동성\":0.05,\"사회성\":0.05},\n",
    "    \"마음 회복에 좋은 녹음길\":     {\"자연성\":0.45,\"편의성\":0.20,\"안정성\":0.25,\"활동성\":0.05,\"사회성\":0.05},\n",
    "    \"에너지 충전에 좋은 활력 공원\":{\"자연성\":0.30,\"편의성\":0.15,\"안정성\":0.05,\"활동성\":0.45,\"사회성\":0.05},\n",
    "    \"스트레스 풀기 좋은 야외운동\":{\"자연성\":0.25,\"편의성\":0.10,\"안정성\":0.05,\"활동성\":0.55,\"사회성\":0.05},\n",
    "    \"함께 즐기는 커뮤니티 공원\": {\"자연성\":0.20,\"편의성\":0.15,\"안정성\":0.05,\"활동성\":0.30,\"사회성\":0.30},\n",
    "    \"성취감 키우는 도전형 공원\": {\"자연성\":0.15,\"편의성\":0.25,\"안정성\":0.15,\"활동성\":0.40,\"사회성\":0.05},\n",
    "}\n",
    "DIMS = [\"자연성\",\"편의성\",\"안정성\",\"활동성\",\"사회성\"]\n",
    "\n",
    "# 감정별 연구 기반 가중치\n",
    "EMOTION_WEIGHTS = {\n",
    "    \"불안\":   {\"자연성\": 0.20, \"편의성\": 0.25, \"안정성\": 0.40, \"활동성\": 0.05, \"사회성\": 0.10},\n",
    "    \"우울\":   {\"자연성\": 0.45, \"편의성\": 0.25, \"안정성\": 0.20, \"활동성\": 0.10, \"사회성\": 0.00},\n",
    "    \"스트레스\":{\"자연성\": 0.30, \"편의성\": 0.15, \"안정성\": 0.05, \"활동성\": 0.50, \"사회성\": 0.00},\n",
    "    \"행복\":   {\"자연성\": 0.25, \"편의성\": 0.15, \"안정성\": 0.05, \"활동성\": 0.30, \"사회성\": 0.25},\n",
    "    \"에너지\": {\"자연성\": 0.35, \"편의성\": 0.20, \"안정성\": 0.10, \"활동성\": 0.30, \"사회성\": 0.05},\n",
    "    \"성취감\": {\"자연성\": 0.20, \"편의성\": 0.25, \"안정성\": 0.15, \"활동성\": 0.35, \"사회성\": 0.05},\n",
    "}\n",
    "\n",
    "def blend_emotion_profile(emotion_levels: Dict[str, int]) -> Dict[str, float]:\n",
    "    # 감정 강도(1~5)로 마음 프로파일 생성\n",
    "    levels = {k: int(emotion_levels.get(k, 0)) for k in EMOTION_WEIGHTS.keys()}\n",
    "    active = {k: v for k, v in levels.items() if v > 0}\n",
    "    if not active:\n",
    "        return {d: 1.0/len(DIMS) for d in DIMS}\n",
    "    total = sum(active.values())\n",
    "    agg = {d: 0.0 for d in DIMS}\n",
    "    for emo, lv in active.items():\n",
    "        contrib = lv / total\n",
    "        for d in DIMS:\n",
    "            agg[d] += EMOTION_WEIGHTS[emo][d] * contrib\n",
    "    s = sum(agg.values())\n",
    "    return {d: (agg[d]/s if s>0 else 0.0) for d in DIMS}\n",
    "\n",
    "# 코사인 유사도 쓰는 이유 - 마음 상태의 분포(패턴)과 녹지 유형의 점수 패턴을 비교하고 싶은 거여서\n",
    "def cosine_similarity(a: Dict[str,float], b: Dict[str,float]) -> float:\n",
    "    # 두 벡터의 코사인 유사도\n",
    "    num = sum(a[d]*b[d] for d in DIMS)\n",
    "    denom = math.sqrt(sum(a[d]**2 for d in DIMS)) * math.sqrt(sum(b[d]**2 for d in DIMS))\n",
    "    return num/denom if denom > 0 else 0.0\n",
    "\n",
    "def recommend_category_by_mind(emotion_levels: Dict[str,int], top_n=3) -> Dict[str,Any]:\n",
    "    # 마음 프로파일과 카테고리 프로파일의 유사도 비교\n",
    "    mind_profile = blend_emotion_profile(emotion_levels)\n",
    "    scores = {}\n",
    "    for cat, w in CATEGORY_PROFILES.items():\n",
    "        scores[cat] = round(cosine_similarity(mind_profile, w), 3)\n",
    "    best_cat = max(scores, key=lambda k: scores[k])\n",
    "    \n",
    "    # 점수 기준 정렬\n",
    "    ranked = sorted(scores.items(), key=lambda x: x[1], reverse=True)\n",
    "    \n",
    "    # JSON 형태로 변환\n",
    "    final_result = [{\"category\": cat, \"score\": score} for cat, score in ranked[:top_n]]\n",
    "\n",
    "    return final_result\n",
    "\n",
    "# ===== 사용 예시 =====\n",
    "if __name__ == \"__main__\":\n",
    "    # 예시: 감정 입력\n",
    "    emotions = {\"우울\":1, \"불안\":3, \"스트레스\":5, \"행복\":1, \"에너지\":0, \"성취감\":2}\n",
    "    res = recommend_category_by_mind(emotions)\n",
    "    print(res)\n"
   ]
  }
 ],
 "metadata": {
  "language_info": {
   "name": "python"
  }
 },
 "nbformat": 4,
 "nbformat_minor": 5
}
